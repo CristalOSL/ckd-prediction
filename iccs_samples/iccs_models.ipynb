{
 "cells": [
  {
   "cell_type": "markdown",
   "source": [
    "## Imports and data loading"
   ],
   "metadata": {
    "collapsed": false
   },
   "id": "8b793ce2853d60dd"
  },
  {
   "cell_type": "code",
   "execution_count": null,
   "outputs": [],
   "source": [
    "import utils\n",
    "import models"
   ],
   "metadata": {
    "collapsed": false
   },
   "id": "f4158a8432c3ee9f"
  },
  {
   "cell_type": "code",
   "execution_count": null,
   "outputs": [],
   "source": [
    "learning_data_path = \"data/learning_data.pkl\""
   ],
   "metadata": {
    "collapsed": false
   },
   "id": "98f230d012158196"
  },
  {
   "cell_type": "code",
   "execution_count": null,
   "outputs": [],
   "source": [
    "import pickle\n",
    "print(\"Loading data...\")\n",
    "with (open(learning_data_path, \"rb\") as file):\n",
    "    (x_train, x_test, y_train, y_test) = pickle.load(file)\n",
    "print(\"All data loaded!\")"
   ],
   "metadata": {
    "collapsed": false
   },
   "id": "fdbc9f5496c2ed29"
  },
  {
   "cell_type": "code",
   "execution_count": null,
   "outputs": [],
   "source": [
    "import pandas as pd\n",
    "pd.DataFrame(y_train).value_counts()"
   ],
   "metadata": {
    "collapsed": false
   },
   "id": "cb072629ae0b4217"
  },
  {
   "cell_type": "markdown",
   "source": [
    "## Pre-processing"
   ],
   "metadata": {
    "collapsed": false
   },
   "id": "d445dfe916f4456e"
  },
  {
   "cell_type": "code",
   "execution_count": null,
   "outputs": [],
   "source": [
    "# Imputation of missing values\n",
    "x_train = utils.impute_missing_values(x_train)\n",
    "x_test = utils.impute_missing_values(x_test)"
   ],
   "metadata": {
    "collapsed": false
   },
   "id": "8aafebda1abda37d"
  },
  {
   "cell_type": "code",
   "execution_count": null,
   "outputs": [],
   "source": [
    "# Scaling data\n",
    "x_train, x_test = utils.scale_data(x_train, x_test)"
   ],
   "metadata": {
    "collapsed": false
   },
   "id": "575721e1dd52316c"
  },
  {
   "cell_type": "code",
   "execution_count": null,
   "outputs": [],
   "source": [
    "x_train, y_train = utils.resample(x_train, y_train)"
   ],
   "metadata": {
    "collapsed": false
   },
   "id": "d598596c6848cb6b"
  },
  {
   "cell_type": "markdown",
   "source": [
    "## Training machine learning models"
   ],
   "metadata": {
    "collapsed": false
   },
   "id": "c3e4e39add06a3ef"
  },
  {
   "cell_type": "code",
   "execution_count": null,
   "outputs": [],
   "source": [
    "num_rows = x_train[0].shape[0]\n",
    "num_columns = x_train[0].shape[1]\n",
    "n_filters = 12"
   ],
   "metadata": {
    "collapsed": false
   },
   "id": "d58cba25b7c07659"
  },
  {
   "cell_type": "markdown",
   "source": [
    "### Training the convolution-only model"
   ],
   "metadata": {
    "collapsed": false
   },
   "id": "6d1aaaae1bad87fc"
  },
  {
   "cell_type": "code",
   "execution_count": null,
   "outputs": [],
   "source": [
    "cnn = models.convolution_only_model(\n",
    "    rows=num_rows, \n",
    "    columns=num_columns,\n",
    "    output_dim=1, # binary output\n",
    "    n_filters=n_filters\n",
    ")"
   ],
   "metadata": {
    "collapsed": false
   },
   "id": "2c33fd0aa98f9aa8"
  },
  {
   "cell_type": "code",
   "execution_count": null,
   "outputs": [],
   "source": [
    "cnn.fit(x_train, y_train, epochs=5, batch_size=64)"
   ],
   "metadata": {
    "collapsed": false
   },
   "id": "a91dcde1b8a6222f"
  },
  {
   "cell_type": "code",
   "execution_count": null,
   "outputs": [],
   "source": [
    "utils.evaluate_model(model=cnn, x_test=x_test, y_test=y_test)"
   ],
   "metadata": {
    "collapsed": false
   },
   "id": "c194d96004d5d2a1"
  },
  {
   "cell_type": "markdown",
   "source": [
    "### Training the involution-only model"
   ],
   "metadata": {
    "collapsed": false
   },
   "id": "8f6102274c9596ac"
  },
  {
   "cell_type": "code",
   "execution_count": null,
   "outputs": [],
   "source": [
    "inn = models.involution_only_model(\n",
    "    rows=num_rows, \n",
    "    columns=num_columns,\n",
    "    output_dim=1, # binary output\n",
    ")"
   ],
   "metadata": {
    "collapsed": false
   },
   "id": "6b397e31f7fa46db"
  },
  {
   "cell_type": "code",
   "execution_count": null,
   "outputs": [],
   "source": [
    "inn.fit(x_train, y_train, epochs=5, batch_size=64)"
   ],
   "metadata": {
    "collapsed": false
   },
   "id": "1b2fd813461174ab"
  },
  {
   "cell_type": "code",
   "execution_count": null,
   "outputs": [],
   "source": [
    "utils.evaluate_model(model=inn, x_test=x_test, y_test=y_test)"
   ],
   "metadata": {
    "collapsed": false
   },
   "id": "d81e8defc3749ae4"
  },
  {
   "cell_type": "markdown",
   "source": [
    "### Training the combined model"
   ],
   "metadata": {
    "collapsed": false
   },
   "id": "d1e1a6730e6d957e"
  },
  {
   "cell_type": "code",
   "execution_count": null,
   "outputs": [],
   "source": [
    "model = models.combined_model(\n",
    "    rows=num_rows, \n",
    "    columns=num_columns,\n",
    "    output_dim=1, # binary output\n",
    "    n_filters=12\n",
    ")"
   ],
   "metadata": {
    "collapsed": false
   },
   "id": "34b6e159f892d2aa"
  },
  {
   "cell_type": "code",
   "execution_count": null,
   "outputs": [],
   "source": [
    "model.fit(x_train, y_train, epochs=5, batch_size=64)"
   ],
   "metadata": {
    "collapsed": false
   },
   "id": "29e6def5c5c8b78"
  },
  {
   "cell_type": "code",
   "execution_count": null,
   "outputs": [],
   "source": [
    "utils.evaluate_model(model=model, x_test=x_test, y_test=y_test)"
   ],
   "metadata": {
    "collapsed": false
   },
   "id": "e672e057ec09acd2"
  },
  {
   "cell_type": "code",
   "execution_count": null,
   "outputs": [],
   "source": [],
   "metadata": {
    "collapsed": false
   },
   "id": "49e3cbc12cc7084e"
  }
 ],
 "metadata": {
  "kernelspec": {
   "display_name": "Python 3",
   "language": "python",
   "name": "python3"
  },
  "language_info": {
   "codemirror_mode": {
    "name": "ipython",
    "version": 2
   },
   "file_extension": ".py",
   "mimetype": "text/x-python",
   "name": "python",
   "nbconvert_exporter": "python",
   "pygments_lexer": "ipython2",
   "version": "2.7.6"
  }
 },
 "nbformat": 4,
 "nbformat_minor": 5
}
