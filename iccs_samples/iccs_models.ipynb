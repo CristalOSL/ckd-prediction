{
 "cells": [
  {
   "cell_type": "markdown",
   "source": [
    "## Imports and data loading"
   ],
   "metadata": {
    "collapsed": false
   },
   "id": "8b793ce2853d60dd"
  },
  {
   "cell_type": "code",
   "execution_count": 1,
   "outputs": [
    {
     "name": "stdout",
     "output_type": "stream",
     "text": [
      "WARNING:tensorflow:From C:\\tools\\miniconda3\\envs\\bio\\lib\\site-packages\\keras\\src\\losses.py:2976: The name tf.losses.sparse_softmax_cross_entropy is deprecated. Please use tf.compat.v1.losses.sparse_softmax_cross_entropy instead.\n"
     ]
    }
   ],
   "source": [
    "import utils\n",
    "import models"
   ],
   "metadata": {
    "collapsed": false,
    "ExecuteTime": {
     "end_time": "2024-01-09T10:20:05.609869300Z",
     "start_time": "2024-01-09T10:19:55.619211300Z"
    }
   },
   "id": "f4158a8432c3ee9f"
  },
  {
   "cell_type": "code",
   "execution_count": 2,
   "outputs": [],
   "source": [
    "learning_data_path = \"data/learning_data.pkl\""
   ],
   "metadata": {
    "collapsed": false,
    "ExecuteTime": {
     "end_time": "2024-01-09T10:20:05.625885800Z",
     "start_time": "2024-01-09T10:20:05.611869500Z"
    }
   },
   "id": "98f230d012158196"
  },
  {
   "cell_type": "code",
   "execution_count": 3,
   "outputs": [
    {
     "name": "stdout",
     "output_type": "stream",
     "text": [
      "Loading data...\n",
      "All data loaded!\n"
     ]
    }
   ],
   "source": [
    "import pickle\n",
    "print(\"Loading data...\")\n",
    "with (open(learning_data_path, \"rb\") as file):\n",
    "    (x_train, x_test, y_train, y_test) = pickle.load(file)\n",
    "print(\"All data loaded!\")"
   ],
   "metadata": {
    "collapsed": false,
    "ExecuteTime": {
     "end_time": "2024-01-09T10:20:05.827564300Z",
     "start_time": "2024-01-09T10:20:05.627887400Z"
    }
   },
   "id": "fdbc9f5496c2ed29"
  },
  {
   "cell_type": "code",
   "execution_count": 4,
   "outputs": [
    {
     "data": {
      "text/plain": "0    9578\n1    4789\nName: count, dtype: int64"
     },
     "execution_count": 4,
     "metadata": {},
     "output_type": "execute_result"
    }
   ],
   "source": [
    "import pandas as pd\n",
    "pd.DataFrame(y_train).value_counts()"
   ],
   "metadata": {
    "collapsed": false,
    "ExecuteTime": {
     "end_time": "2024-01-09T10:20:05.858714600Z",
     "start_time": "2024-01-09T10:20:05.829566500Z"
    }
   },
   "id": "cb072629ae0b4217"
  },
  {
   "cell_type": "markdown",
   "source": [
    "## Pre-processing"
   ],
   "metadata": {
    "collapsed": false
   },
   "id": "d445dfe916f4456e"
  },
  {
   "cell_type": "code",
   "execution_count": 5,
   "outputs": [
    {
     "name": "stdout",
     "output_type": "stream",
     "text": [
      "Imputing values for 14367 matrices...\n"
     ]
    },
    {
     "name": "stderr",
     "output_type": "stream",
     "text": [
      "14367it [00:07, 1958.54it/s]\n"
     ]
    },
    {
     "name": "stdout",
     "output_type": "stream",
     "text": [
      "Imputing values for 1000 matrices...\n"
     ]
    },
    {
     "name": "stderr",
     "output_type": "stream",
     "text": [
      "1000it [00:00, 1954.17it/s]\n"
     ]
    }
   ],
   "source": [
    "# Imputation of missing values\n",
    "x_train = utils.impute_missing_values(x_train)\n",
    "x_test = utils.impute_missing_values(x_test)"
   ],
   "metadata": {
    "collapsed": false,
    "ExecuteTime": {
     "end_time": "2024-01-09T10:20:13.793125100Z",
     "start_time": "2024-01-09T10:20:05.860716200Z"
    }
   },
   "id": "8aafebda1abda37d"
  },
  {
   "cell_type": "code",
   "execution_count": 6,
   "outputs": [
    {
     "name": "stdout",
     "output_type": "stream",
     "text": [
      "(14367, 12, 27) (1000, 12, 27)\n",
      "Reshaping x_train and x_test...\n",
      "(387909, 12) (27000, 12)\n",
      "Fitting the imputer...\n",
      "Scaling values...\n",
      "Reshaping x_train and x_test...\n",
      "Done scaling!\n"
     ]
    }
   ],
   "source": [
    "# Scaling data\n",
    "x_train, x_test = utils.scale_data(x_train, x_test)"
   ],
   "metadata": {
    "collapsed": false,
    "ExecuteTime": {
     "end_time": "2024-01-09T10:20:13.962312900Z",
     "start_time": "2024-01-09T10:20:13.795130200Z"
    }
   },
   "id": "575721e1dd52316c"
  },
  {
   "cell_type": "code",
   "execution_count": 7,
   "outputs": [],
   "source": [
    "x_train, y_train = utils.resample(x_train, y_train)"
   ],
   "metadata": {
    "collapsed": false,
    "ExecuteTime": {
     "end_time": "2024-01-09T10:20:14.024888500Z",
     "start_time": "2024-01-09T10:20:13.963306700Z"
    }
   },
   "id": "d598596c6848cb6b"
  },
  {
   "cell_type": "markdown",
   "source": [
    "## Training machine learning models"
   ],
   "metadata": {
    "collapsed": false
   },
   "id": "c3e4e39add06a3ef"
  },
  {
   "cell_type": "code",
   "execution_count": 8,
   "outputs": [],
   "source": [
    "num_rows = x_train[0].shape[0]\n",
    "num_columns = x_train[0].shape[1]\n",
    "n_filters = 12"
   ],
   "metadata": {
    "collapsed": false,
    "ExecuteTime": {
     "end_time": "2024-01-09T10:20:14.039895400Z",
     "start_time": "2024-01-09T10:20:14.026884Z"
    }
   },
   "id": "d58cba25b7c07659"
  },
  {
   "cell_type": "markdown",
   "source": [
    "### Training the convolution-only model"
   ],
   "metadata": {
    "collapsed": false
   },
   "id": "6d1aaaae1bad87fc"
  },
  {
   "cell_type": "code",
   "execution_count": 9,
   "outputs": [
    {
     "name": "stdout",
     "output_type": "stream",
     "text": [
      "WARNING:tensorflow:From C:\\tools\\miniconda3\\envs\\bio\\lib\\site-packages\\keras\\src\\backend.py:873: The name tf.get_default_graph is deprecated. Please use tf.compat.v1.get_default_graph instead.\n",
      "WARNING:tensorflow:From C:\\tools\\miniconda3\\envs\\bio\\lib\\site-packages\\keras\\src\\layers\\normalization\\batch_normalization.py:979: The name tf.nn.fused_batch_norm is deprecated. Please use tf.compat.v1.nn.fused_batch_norm instead.\n",
      "compiling the combined model...\n",
      "WARNING:tensorflow:From C:\\tools\\miniconda3\\envs\\bio\\lib\\site-packages\\keras\\src\\optimizers\\__init__.py:309: The name tf.train.Optimizer is deprecated. Please use tf.compat.v1.train.Optimizer instead.\n"
     ]
    }
   ],
   "source": [
    "cnn = models.convolution_only_model(\n",
    "    rows=num_rows, \n",
    "    columns=num_columns,\n",
    "    output_dim=1, # binary output\n",
    "    n_filters=n_filters\n",
    ")"
   ],
   "metadata": {
    "collapsed": false,
    "ExecuteTime": {
     "end_time": "2024-01-09T10:20:14.888443600Z",
     "start_time": "2024-01-09T10:20:14.040896300Z"
    }
   },
   "id": "2c33fd0aa98f9aa8"
  },
  {
   "cell_type": "code",
   "execution_count": 10,
   "outputs": [
    {
     "name": "stdout",
     "output_type": "stream",
     "text": [
      "Epoch 1/5\n",
      "WARNING:tensorflow:From C:\\tools\\miniconda3\\envs\\bio\\lib\\site-packages\\keras\\src\\utils\\tf_utils.py:492: The name tf.ragged.RaggedTensorValue is deprecated. Please use tf.compat.v1.ragged.RaggedTensorValue instead.\n",
      "WARNING:tensorflow:From C:\\tools\\miniconda3\\envs\\bio\\lib\\site-packages\\keras\\src\\engine\\base_layer_utils.py:384: The name tf.executing_eagerly_outside_functions is deprecated. Please use tf.compat.v1.executing_eagerly_outside_functions instead.\n",
      "300/300 [==============================] - 5s 11ms/step - loss: 0.2653 - accuracy: 0.8928\n",
      "Epoch 2/5\n",
      "300/300 [==============================] - 3s 10ms/step - loss: 0.1841 - accuracy: 0.9320\n",
      "Epoch 3/5\n",
      "300/300 [==============================] - 3s 10ms/step - loss: 0.1623 - accuracy: 0.9410\n",
      "Epoch 4/5\n",
      "300/300 [==============================] - 3s 10ms/step - loss: 0.1516 - accuracy: 0.9439\n",
      "Epoch 5/5\n",
      "300/300 [==============================] - 3s 10ms/step - loss: 0.1395 - accuracy: 0.9476\n"
     ]
    },
    {
     "data": {
      "text/plain": "<keras.src.callbacks.History at 0x180b1eb7f70>"
     },
     "execution_count": 10,
     "metadata": {},
     "output_type": "execute_result"
    }
   ],
   "source": [
    "cnn.fit(x_train, y_train, epochs=5, batch_size=64)"
   ],
   "metadata": {
    "collapsed": false,
    "ExecuteTime": {
     "end_time": "2024-01-09T10:20:32.173021600Z",
     "start_time": "2024-01-09T10:20:14.890445300Z"
    }
   },
   "id": "a91dcde1b8a6222f"
  },
  {
   "cell_type": "code",
   "execution_count": 11,
   "outputs": [
    {
     "name": "stdout",
     "output_type": "stream",
     "text": [
      "32/32 [==============================] - 0s 2ms/step - loss: 0.2296 - accuracy: 0.9520\n",
      "32/32 [==============================] - 0s 2ms/step\n",
      "Test Accuracy: 95.20%\n",
      "ROC-AUC: 93.76%\n",
      "              precision    recall  f1-score   support\n",
      "\n",
      "           0       1.00      0.95      0.97       949\n",
      "           1       0.52      0.92      0.66        51\n",
      "\n",
      "    accuracy                           0.95      1000\n",
      "   macro avg       0.76      0.94      0.82      1000\n",
      "weighted avg       0.97      0.95      0.96      1000\n"
     ]
    },
    {
     "data": {
      "text/plain": "<Figure size 1500x500 with 4 Axes>",
      "image/png": "[encoded data removed]"
     },
     "metadata": {},
     "output_type": "display_data"
    }
   ],
   "source": [
    "utils.evaluate_model(model=cnn, x_test=x_test, y_test=y_test)"
   ],
   "metadata": {
    "collapsed": false,
    "ExecuteTime": {
     "end_time": "2024-01-09T10:20:33.275134200Z",
     "start_time": "2024-01-09T10:20:32.175023100Z"
    }
   },
   "id": "c194d96004d5d2a1"
  },
  {
   "cell_type": "markdown",
   "source": [
    "### Training the involution-only model"
   ],
   "metadata": {
    "collapsed": false
   },
   "id": "8f6102274c9596ac"
  },
  {
   "cell_type": "code",
   "execution_count": 12,
   "outputs": [
    {
     "name": "stdout",
     "output_type": "stream",
     "text": [
      "compiling the involution model...\n"
     ]
    }
   ],
   "source": [
    "inn = models.involution_only_model(\n",
    "    rows=num_rows, \n",
    "    columns=num_columns,\n",
    "    output_dim=1, # binary output\n",
    ")"
   ],
   "metadata": {
    "collapsed": false,
    "ExecuteTime": {
     "end_time": "2024-01-09T10:20:33.557257800Z",
     "start_time": "2024-01-09T10:20:33.276135900Z"
    }
   },
   "id": "6b397e31f7fa46db"
  },
  {
   "cell_type": "code",
   "execution_count": 13,
   "outputs": [
    {
     "name": "stdout",
     "output_type": "stream",
     "text": [
      "Epoch 1/5\n",
      "300/300 [==============================] - 4s 7ms/step - loss: 0.7654 - accuracy: 0.5026\n",
      "Epoch 2/5\n",
      "300/300 [==============================] - 2s 7ms/step - loss: 0.7071 - accuracy: 0.5043\n",
      "Epoch 3/5\n",
      "300/300 [==============================] - 2s 6ms/step - loss: 0.4949 - accuracy: 0.7179\n",
      "Epoch 4/5\n",
      "300/300 [==============================] - 2s 6ms/step - loss: 0.2854 - accuracy: 0.8927\n",
      "Epoch 5/5\n",
      "300/300 [==============================] - 2s 6ms/step - loss: 0.2475 - accuracy: 0.8995\n"
     ]
    },
    {
     "data": {
      "text/plain": "<keras.src.callbacks.History at 0x180afd6eca0>"
     },
     "execution_count": 13,
     "metadata": {},
     "output_type": "execute_result"
    }
   ],
   "source": [
    "inn.fit(x_train, y_train, epochs=5, batch_size=64)"
   ],
   "metadata": {
    "collapsed": false,
    "ExecuteTime": {
     "end_time": "2024-01-09T10:20:45.087867500Z",
     "start_time": "2024-01-09T10:20:33.559259500Z"
    }
   },
   "id": "1b2fd813461174ab"
  },
  {
   "cell_type": "code",
   "execution_count": 14,
   "outputs": [
    {
     "name": "stdout",
     "output_type": "stream",
     "text": [
      "32/32 [==============================] - 0s 3ms/step - loss: 2.4863 - accuracy: 0.9170\n",
      "32/32 [==============================] - 0s 3ms/step\n",
      "Test Accuracy: 91.70%\n",
      "ROC-AUC: 90.06%\n",
      "              precision    recall  f1-score   support\n",
      "\n",
      "           0       0.99      0.92      0.95       949\n",
      "           1       0.37      0.88      0.52        51\n",
      "\n",
      "    accuracy                           0.92      1000\n",
      "   macro avg       0.68      0.90      0.74      1000\n",
      "weighted avg       0.96      0.92      0.93      1000\n"
     ]
    },
    {
     "data": {
      "text/plain": "<Figure size 1500x500 with 4 Axes>",
      "image/png": "[encoded data removed]"
     },
     "metadata": {},
     "output_type": "display_data"
    }
   ],
   "source": [
    "utils.evaluate_model(model=inn, x_test=x_test, y_test=y_test)"
   ],
   "metadata": {
    "collapsed": false,
    "ExecuteTime": {
     "end_time": "2024-01-09T10:20:46.096415300Z",
     "start_time": "2024-01-09T10:20:45.089868700Z"
    }
   },
   "id": "d81e8defc3749ae4"
  },
  {
   "cell_type": "markdown",
   "source": [
    "### Training the combined model"
   ],
   "metadata": {
    "collapsed": false
   },
   "id": "d1e1a6730e6d957e"
  },
  {
   "cell_type": "code",
   "execution_count": 15,
   "outputs": [
    {
     "name": "stdout",
     "output_type": "stream",
     "text": [
      "compiling the combined model...\n"
     ]
    }
   ],
   "source": [
    "model = models.combined_model(\n",
    "    rows=num_rows, \n",
    "    columns=num_columns,\n",
    "    output_dim=1, # binary output\n",
    "    n_filters=12\n",
    ")"
   ],
   "metadata": {
    "collapsed": false,
    "ExecuteTime": {
     "end_time": "2024-01-09T10:20:46.305972200Z",
     "start_time": "2024-01-09T10:20:46.098417200Z"
    }
   },
   "id": "34b6e159f892d2aa"
  },
  {
   "cell_type": "code",
   "execution_count": 16,
   "outputs": [
    {
     "name": "stdout",
     "output_type": "stream",
     "text": [
      "Epoch 1/5\n",
      "300/300 [==============================] - 9s 23ms/step - loss: 0.5773 - accuracy: 0.6131\n",
      "Epoch 2/5\n",
      "300/300 [==============================] - 8s 26ms/step - loss: 0.2702 - accuracy: 0.9034\n",
      "Epoch 3/5\n",
      "300/300 [==============================] - 8s 26ms/step - loss: 0.2363 - accuracy: 0.9037\n",
      "Epoch 4/5\n",
      "300/300 [==============================] - 7s 25ms/step - loss: 0.2249 - accuracy: 0.9051\n",
      "Epoch 5/5\n",
      "300/300 [==============================] - 8s 26ms/step - loss: 0.2197 - accuracy: 0.9069\n"
     ]
    },
    {
     "data": {
      "text/plain": "<keras.src.callbacks.History at 0x180b43a5370>"
     },
     "execution_count": 16,
     "metadata": {},
     "output_type": "execute_result"
    }
   ],
   "source": [
    "model.fit(x_train, y_train, epochs=5, batch_size=64)"
   ],
   "metadata": {
    "collapsed": false,
    "ExecuteTime": {
     "end_time": "2024-01-09T10:21:25.876938400Z",
     "start_time": "2024-01-09T10:20:46.307974100Z"
    }
   },
   "id": "29e6def5c5c8b78"
  },
  {
   "cell_type": "code",
   "execution_count": 17,
   "outputs": [
    {
     "name": "stdout",
     "output_type": "stream",
     "text": [
      "32/32 [==============================] - 0s 6ms/step - loss: 0.1595 - accuracy: 0.9740\n",
      "32/32 [==============================] - 0s 7ms/step\n",
      "Test Accuracy: 97.40%\n",
      "ROC-AUC: 84.71%\n",
      "              precision    recall  f1-score   support\n",
      "\n",
      "           0       0.98      0.99      0.99       949\n",
      "           1       0.77      0.71      0.73        51\n",
      "\n",
      "    accuracy                           0.97      1000\n",
      "   macro avg       0.88      0.85      0.86      1000\n",
      "weighted avg       0.97      0.97      0.97      1000\n"
     ]
    },
    {
     "data": {
      "text/plain": "<Figure size 1500x500 with 4 Axes>",
      "image/png": "[encoded data removed]"
     },
     "metadata": {},
     "output_type": "display_data"
    }
   ],
   "source": [
    "utils.evaluate_model(model=model, x_test=x_test, y_test=y_test)"
   ],
   "metadata": {
    "collapsed": false,
    "ExecuteTime": {
     "end_time": "2024-01-09T10:21:27.214193200Z",
     "start_time": "2024-01-09T10:21:25.836905300Z"
    }
   },
   "id": "e672e057ec09acd2"
  },
  {
   "cell_type": "code",
   "outputs": [],
   "source": [],
   "metadata": {
    "collapsed": false
   },
   "id": "a7651a0d66dc0370"
  }
 ],
 "metadata": {
  "kernelspec": {
   "display_name": "Python 3",
   "language": "python",
   "name": "python3"
  },
  "language_info": {
   "codemirror_mode": {
    "name": "ipython",
    "version": 2
   },
   "file_extension": ".py",
   "mimetype": "text/x-python",
   "name": "python",
   "nbconvert_exporter": "python",
   "pygments_lexer": "ipython2",
   "version": "2.7.6"
  }
 },
 "nbformat": 4,
 "nbformat_minor": 5
}
